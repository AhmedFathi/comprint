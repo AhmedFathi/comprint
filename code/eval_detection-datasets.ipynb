{
 "cells": [
  {
   "cell_type": "code",
   "execution_count": 1,
   "id": "b43ffba9",
   "metadata": {},
   "outputs": [],
   "source": [
    "import importlib\n",
    "\n",
    "import numpy as np\n",
    "import csv\n",
    "import os\n",
    "from time import time, sleep\n",
    "from tensorflow import keras as ks\n",
    "import tensorflow as tf \n",
    "from tqdm.notebook import tqdm_notebook\n",
    "from PIL import Image\n",
    "import splicebuster\n",
    "from splicebuster.noiseprint import post_em\n",
    "import splicebuster.main_metrics\n",
    "#from splicebuster.main_blind_function import extract_heatmap, extract_heatmap_concat\n",
    "import splicebuster.main_blind_function\n",
    "#import splicebuster.noiseprint.noiseprint_blind\n",
    "import splicebuster.noiseprint.noiseprint_blind_concat\n",
    "\n",
    "from matplotlib import pyplot as plt\n",
    "\n",
    "def ensure_dir(file_path):\n",
    "    directory = os.path.dirname(file_path)\n",
    "    if not os.path.exists(directory):\n",
    "        os.makedirs(directory)"
   ]
  },
  {
   "cell_type": "code",
   "execution_count": 2,
   "id": "dc362ada",
   "metadata": {},
   "outputs": [
    {
     "data": {
      "text/plain": [
       "<module 'splicebuster.noiseprint.noiseprint' from '/project/Code/splicebuster/noiseprint/noiseprint.py'>"
      ]
     },
     "execution_count": 2,
     "metadata": {},
     "output_type": "execute_result"
    }
   ],
   "source": [
    "importlib.reload(splicebuster.main_metrics)\n",
    "importlib.reload(splicebuster.main_blind_function)\n",
    "importlib.reload(splicebuster.noiseprint.noiseprint_blind)\n",
    "importlib.reload(splicebuster.noiseprint.noiseprint_blind_concat)\n",
    "importlib.reload(splicebuster.noiseprint.noiseprint)"
   ]
  },
  {
   "cell_type": "code",
   "execution_count": 3,
   "id": "d2b6f54a-0a69-4bd9-bc8d-d7686bc9c2e3",
   "metadata": {},
   "outputs": [],
   "source": [
    "main_folder = f\"/project\""
   ]
  },
  {
   "cell_type": "code",
   "execution_count": 4,
   "id": "3d09ffc1-231c-4b30-8daa-805f8545c49b",
   "metadata": {},
   "outputs": [],
   "source": [
    "# Load model\n",
    "def get_model(modelname, main_folder):\n",
    "    if modelname == \"full\":\n",
    "        model = ks.models.load_model('%s/models/Comprint_Siamese_Full' % main_folder)\n",
    "    elif modelname == \"HighQF2\":\n",
    "        model = ks.models.load_model('%s/models/Comprint_Siamese_HighQF2' % main_folder)\n",
    "    elif modelname ==\"HighQF2_rec\":\n",
    "        model = ks.models.load_model('%s/models/Comprint_Siamese_HighQF2_rec' % main_folder)\n",
    "    elif modelname ==\"HighQF2_rec_unal\":\n",
    "        model = ks.models.load_model('%s/models/Comprint_Siamese_HighQF2_recompress_unaligned' % main_folder)\n",
    "    elif modelname ==\"full_nonSiamese_rec_unal\":\n",
    "        model = ks.models.load_model('%s/models/Comprint_Full_recompress_unaligned' % main_folder)\n",
    "    elif modelname == \"Full_codecs\":\n",
    "        model = ks.models.load_model('%s/models/Comprint_Full_Siamese_codecs' % main_folder)\n",
    "    elif modelname == \"full-jpg-ps\":\n",
    "        model = ks.models.load_model('%s/models/Comprint_Siamese_Full_jpg_ps' % main_folder)\n",
    "    elif modelname == \"full-jpg-ps-full\":\n",
    "        model = ks.models.load_model('%s/models/Comprint_Siamese_Full_jpg_ps_full' % main_folder)\n",
    "    elif modelname == \"net\":\n",
    "        # For noiseprint, load different model depending on jpg QF\n",
    "        print(\"Don't load model %s because it's dependent on QF\" % modelname)\n",
    "        noiseprint_model_folder = f\"%s/models/noiseprint_nets\" % (main_folder)\n",
    "        model = \"%s/%s\" % (noiseprint_model_folder, modelname)\n",
    "        print(model)\n",
    "    else:\n",
    "        print(\"Model %s not found\" % modelname)\n",
    "        model = None\n",
    "    print(\"Model %s loaded\" % modelname)\n",
    "    return model\n",
    "\n"
   ]
  },
  {
   "cell_type": "code",
   "execution_count": 5,
   "id": "05341475",
   "metadata": {},
   "outputs": [],
   "source": [
    "modelnames = [\"full\"]\n",
    "#modelnames = [\"HighQF2\"]\n",
    "#modelnames = [\"HighQF2_rec\"]\n",
    "#modelnames = [\"HighQF2_rec_unal\"]\n",
    "#modelnames = [\"full_nonSiamese_rec_unal\"]\n",
    "#modelnames = [\"Full_codecs\"]\n",
    "modelnames = [\"net\"]\n",
    "#modelnames = [\"full-jpg-ps\"]\n",
    "modelnames = [\"full-jpg-ps-full\"]\n",
    "\n",
    "#modelnames = [\"full\", \"HighQF2\"]\n",
    "#modelnames = [\"full\", \"net\"]\n",
    "#modelnames = [\"full\", \"full-jpg-ps\"]\n",
    "#modelnames = [\"full\", \"full-jpg-ps\", \"net\"]\n",
    "#modelnames = [\"full-jpg-ps-full\", \"net\"]\n",
    "#modelnames = [\"full\", \"HighQF2_rec_unal\", \"net\"]"
   ]
  },
  {
   "cell_type": "code",
   "execution_count": 6,
   "id": "92aeb080-9fc2-45ad-839e-cf69dd5cc5b6",
   "metadata": {},
   "outputs": [],
   "source": [
    "save_multiple = False\n",
    "#save_multiple = True # If concatenation of models, also save individual model heatmap npz files?"
   ]
  },
  {
   "cell_type": "code",
   "execution_count": 7,
   "id": "ba936afa-8eac-42ec-941c-95ed31f0effa",
   "metadata": {},
   "outputs": [
    {
     "name": "stderr",
     "output_type": "stream",
     "text": [
      "2022-06-16 12:46:05.556542: I tensorflow/core/platform/cpu_feature_guard.cc:151] This TensorFlow binary is optimized with oneAPI Deep Neural Network Library (oneDNN) to use the following CPU instructions in performance-critical operations:  AVX2 AVX512F FMA\n",
      "To enable them in other operations, rebuild TensorFlow with the appropriate compiler flags.\n",
      "2022-06-16 12:46:06.620507: I tensorflow/core/common_runtime/gpu/gpu_device.cc:1525] Created device /job:localhost/replica:0/task:0/device:GPU:0 with 10415 MB memory:  -> device: 0, name: NVIDIA GeForce GTX 1080 Ti, pci bus id: 0000:3c:00.0, compute capability: 6.1\n"
     ]
    },
    {
     "name": "stdout",
     "output_type": "stream",
     "text": [
      "Model full-jpg-ps-full loaded\n"
     ]
    }
   ],
   "source": [
    "models = []\n",
    "for modelname in modelnames:\n",
    "    model = get_model(modelname, main_folder)\n",
    "    models.append(model)"
   ]
  },
  {
   "cell_type": "markdown",
   "id": "6dd68a41",
   "metadata": {},
   "source": [
    "# Set input dataset"
   ]
  },
  {
   "cell_type": "code",
   "execution_count": 15,
   "id": "cf2247e0-9b3c-4f59-9a36-17e4cf31565e",
   "metadata": {},
   "outputs": [],
   "source": [
    "def get_dataset_folders(dataset_name, main_folder):\n",
    "    input_folder_real = \"\"\n",
    "    output_folder_real = \"\"\n",
    "    \n",
    "    if dataset_name == \"VIPP\":\n",
    "        # VIPP Realistic\n",
    "        input_folder = f\"%s/Data/Datasets/VIPP/DEMPSTER_SHAFER_FORENSICS/TIFS_RealisticDATASET/Forgery\" % (main_folder)\n",
    "        input_folder_real = f\"%s/Data/Datasets/VIPP/DEMPSTER_SHAFER_FORENSICS/TIFS_RealisticDATASET/NonTamp\" % (main_folder)\n",
    "        output_folder = f\"%s/Data/Datasets_output/VIPP/DEMPSTER_SHAFER_FORENSICS/TIFS_RealisticDATASET/Forgery\" % (main_folder)\n",
    "        output_folder_real = f\"%s/Data/Datasets_output/VIPP/DEMPSTER_SHAFER_FORENSICS/TIFS_RealisticDATASET/NonTamp\" % (main_folder)\n",
    "        ground_truth_folder = f\"%s/Data/Datasets/VIPP/VIPP_masks\" % (main_folder)\n",
    "        ground_truth_file_main = \"\"\n",
    "        ground_truth_filename_extra = \"\"\n",
    "        do_invert = False\n",
    "        \n",
    "        #output_folder_noiseprint = f\"%s/Data/Datasets_output/VIPP/DEMPSTER_SHAFER_FORENSICS/TIFS_RealisticDATASET/Forgery_noiseprint\" % (main_folder)\n",
    "    # VIPP Synthetic\n",
    "    elif dataset_name == \"VIPP_Synthetic\":\n",
    "        input_folder = f\"%s/Data/Datasets/VIPP/DEMPSTER_SHAFER_FORENSICS/TIFS_SyntheticDATASET\" % (main_folder)\n",
    "        # No real folder exists\n",
    "        output_folder = f\"%s/Data/Datasets_output/VIPP/DEMPSTER_SHAFER_FORENSICS/TIFS_SyntheticDATASET\" % (main_folder)\n",
    "        # No real folder exists\n",
    "        #ground_truth_folder = \"\"\n",
    "        ground_truth_folder = f\"%s/Data/Datasets/VIPP/TIFS_SyntheticDATASET_gt\" % (main_folder)\n",
    "        ground_truth_file_main = \"mask_1024x1024_256x256.png\"\n",
    "        ground_truth_filename_extra = \"\"\n",
    "        do_invert = False\n",
    "    elif dataset_name == \"IMD2020\":\n",
    "        # IMD2020\n",
    "        input_folder = f\"%s/Data/Datasets/IMD2020/IMD2020/all\" % (main_folder)\n",
    "        input_folder_real = f\"%s/Data/Datasets/IMD2020/IMD2020/all_real\" % (main_folder)\n",
    "        output_folder = f\"%s/Data/Datasets_output/IMD2020/IMD2020\" % (main_folder)\n",
    "        output_folder_real = f\"%s/Data/Datasets_output/IMD2020/IMD2020_real\" % (main_folder)\n",
    "        ground_truth_folder = f\"%s/Data/Datasets/IMD2020/IMD2020/all_masks\" % (main_folder)\n",
    "        ground_truth_file_main = \"\"\n",
    "        ground_truth_filename_extra = \"_mask\"\n",
    "        do_invert = False\n",
    "    elif dataset_name == \"OpenForensics\":\n",
    "        # OpenForensics\n",
    "        #input_folder = f\"%s/Data/Datasets/OpenForensics/Test-Dev_part1_1\" % (main_folder)\n",
    "        input_folder = f\"%s/Data/Datasets/OpenForensics/Test-Dev\" % (main_folder)\n",
    "        # No real folder exists\n",
    "        #output_folder = f\"%s/Data/Datasets_output/OpenForensics/Test-Dev_part1_1\" % (main_folder)\n",
    "        output_folder = f\"%s/Data/Datasets_output/OpenForensics/Test-Dev\" % (main_folder)\n",
    "        # No real folder exists\n",
    "        ground_truth_folder = f\"%s/Data/Datasets/OpenForensics/Annotations_GT/Images/Test-Dev\" % (main_folder)\n",
    "        ground_truth_file_main = \"\"\n",
    "        ground_truth_filename_extra = \"\"\n",
    "        do_invert = False\n",
    "    elif dataset_name == \"FaceSwap\":\n",
    "        # FaceSwap\n",
    "        input_folder = f\"%s/Data/Datasets/FaceSwap_jpg/fake\" % (main_folder)\n",
    "        input_folder_real = f\"%s/Data/Datasets/FaceSwap_jpg/real\" % (main_folder)\n",
    "        output_folder = f\"%s/Data/Datasets_output/FaceSwap_jpg/fake\" % (main_folder)\n",
    "        output_folder_real = f\"%s/Data/Datasets_output/FaceSwap_jpg/real\" % (main_folder)\n",
    "        ground_truth_folder = f\"%s/Data/Datasets/FaceSwap_jpg/mask\" % (main_folder)\n",
    "        ground_truth_file_main = \"\"\n",
    "        ground_truth_filename_extra = \"\"\n",
    "        do_invert = False\n",
    "    elif dataset_name == \"DSO-1\":\n",
    "        input_folder = f\"%s/Data/Datasets/DSO-1/splicing\" % (main_folder)\n",
    "        input_folder_real = f\"%s/Data/Datasets/DSO-1/normal\" % (main_folder)\n",
    "        output_folder = f\"%s/Data/Datasets_output/DSO-1/splicing\" % (main_folder)\n",
    "        output_folder_real = f\"%s/Data/Datasets_output/DSO-1/normal\" % (main_folder)\n",
    "        ground_truth_folder = f\"%s/Data/Datasets/DSO-1/masks\" % (main_folder)\n",
    "        ground_truth_file_main = \"\"\n",
    "        ground_truth_filename_extra = \"\"\n",
    "        do_invert = True\n",
    "    elif dataset_name == \"websplicing100\":\n",
    "        # FaceSwap\n",
    "        input_folder = f\"%s/Data/Datasets/splicing100_facebook_L/fake\" % (main_folder)\n",
    "        input_folder_real = f\"%s/Data/Datasets/splicing100_facebook_L/real\" % (main_folder) # doesn't exist\n",
    "        output_folder = f\"%s/Data/Datasets_output/splicing100_facebook_L/fake\" % (main_folder)\n",
    "        output_folder_real = f\"%s/Data/Datasets_output/splicing100_facebook_L/real\" % (main_folder)\n",
    "        ground_truth_folder = f\"%s/Data/Datasets/splicing100_facebook_L/mask\" % (main_folder)  # doesn't exist\n",
    "        ground_truth_file_main = \"\"\n",
    "        ground_truth_filename_extra = \"\"\n",
    "        do_invert = False\n",
    "    elif dataset_name == \"Random_tests\":\n",
    "        input_folder = f\"%s/Data/Datasets/Random_tests\" % (main_folder)\n",
    "        #input_folder = f\"%s/Data/Datasets/Random_tests/imagen\" % (main_folder)\n",
    "        input_folder_real = \"\"\n",
    "        output_folder = f\"%s/Data/Datasets_output/Random_tests\" % (main_folder)\n",
    "        #output_folder = f\"%s/Data/Datasets_output/Random_tests/imagen\" % (main_folder)\n",
    "        output_folder_real = \"\"\n",
    "        ground_truth_folder = \"\"\n",
    "        ground_truth_file_main = \"\"\n",
    "        ground_truth_filename_extra = \"\"\n",
    "        do_invert = False\n",
    "    else:\n",
    "        print(\"Dataset %s not found\" % dataset_name)\n",
    "        return \"\", \"\", \"\", \"\", \"\", False\n",
    "        \n",
    "    return input_folder, input_folder_real, output_folder, output_folder_real, ground_truth_folder, ground_truth_file_main, ground_truth_filename_extra, do_invert"
   ]
  },
  {
   "cell_type": "code",
   "execution_count": 16,
   "id": "123fa11d",
   "metadata": {},
   "outputs": [],
   "source": [
    "dataset_name = \"VIPP\"\n",
    "#dataset_name = \"VIPP_Synthetic\"\n",
    "dataset_name = \"IMD2020\"\n",
    "dataset_name = \"OpenForensics\"\n",
    "#dataset_name = \"FaceSwap\"\n",
    "#dataset_name = \"DSO-1\"\n",
    "#dataset_name = \"websplicing100\"\n",
    "dataset_name = \"Random_tests\""
   ]
  },
  {
   "cell_type": "code",
   "execution_count": 17,
   "id": "e131620d-84eb-469a-b81d-7fb7551209fa",
   "metadata": {},
   "outputs": [],
   "source": [
    "# Optional: to read which files to analyze from file\n",
    "#input_files_filename = f\"%s/Data/Datasets_output/OpenForensics/%s\" % (main_folder, \"OpenForensics_errors.txt\")\n",
    "#input_files_filename = f\"%s/Data/Datasets_output/OpenForensics/%s\" % (main_folder, \"OpenForensics_errors_npz_missing.txt\")"
   ]
  },
  {
   "cell_type": "code",
   "execution_count": 18,
   "id": "16a88d3d-aad4-424c-a7f8-e978d3df823b",
   "metadata": {},
   "outputs": [
    {
     "name": "stdout",
     "output_type": "stream",
     "text": [
      "/project/Data/Datasets/Random_tests\n",
      "\n",
      "/project/Data/Datasets_output/Random_tests\n",
      "\n",
      "\n"
     ]
    }
   ],
   "source": [
    "# Get dataset info\n",
    "input_folder, input_folder_real, output_folder, output_folder_real, ground_truth_folder, ground_truth_file_main, ground_truth_filename_extra, do_invert = get_dataset_folders(dataset_name, main_folder)\n",
    "\n",
    "print(input_folder)\n",
    "print(input_folder_real)\n",
    "print(output_folder)\n",
    "print(output_folder_real)\n",
    "print(ground_truth_folder)"
   ]
  },
  {
   "cell_type": "code",
   "execution_count": 19,
   "id": "cc97e57b-1100-4639-adae-6e53b12e0da1",
   "metadata": {},
   "outputs": [],
   "source": [
    "do_fake = True\n",
    "#do_fake = False # Real"
   ]
  },
  {
   "cell_type": "markdown",
   "id": "d74805cb",
   "metadata": {},
   "source": [
    "# Bulk detection"
   ]
  },
  {
   "cell_type": "code",
   "execution_count": 20,
   "id": "8d4662ae-3663-430b-93e3-1c20baaecce3",
   "metadata": {},
   "outputs": [],
   "source": [
    "def get_filenames(input_folder, input_filename, output_folder, modelnames, ground_truth_filename_extra, ground_truth_folder, ground_truth_file_main, save_heatmap, save_multiple=False):\n",
    "    # Set correct filenames\n",
    "    input_filename_wo_ext = os.path.splitext(input_filename)[0]\n",
    "    input_file = f\"%s/%s\" % (input_folder, input_filename)\n",
    "\n",
    "    fingerprint_files = []\n",
    "    output_filename_base = \"%s\" % (input_filename)\n",
    "    output_file_base = f\"%s/%s\" % (output_folder, output_filename_base)\n",
    "    output_filename = output_filename_base\n",
    "    if len(modelnames) > 1:\n",
    "        output_filename = \"%s_concat\" % output_filename_base\n",
    "\n",
    "    output_files = []\n",
    "    output_files_npz = []\n",
    "    heatmap_files = []\n",
    "    for modelname in modelnames:\n",
    "        fingerprint_file = f\"%s_%s_res.png\" % (output_file_base, modelname)\n",
    "        fingerprint_files.append(fingerprint_file)\n",
    "        \n",
    "        # Build concatenated filename\n",
    "        output_filename = \"%s_%s\" % (output_filename, modelname)\n",
    "        \n",
    "        if save_multiple: # Individual output files\n",
    "            output_file = f\"%s/%s_%s\" % (output_folder, output_filename_base, modelname)\n",
    "            output_files.append(output_file)\n",
    "            output_file_npz = f\"%s.npz\" % (output_file)\n",
    "            output_files_npz.append(output_file_npz)\n",
    "\n",
    "            if save_heatmap:\n",
    "                heatmap_file = f\"%s_heatmap.png\" % (output_file)\n",
    "            else:\n",
    "                heatmap_file = \"\"\n",
    "            heatmap_files.append(heatmap_file)\n",
    "        \n",
    "\n",
    "    output_file = f\"%s/%s\" % (output_folder, output_filename)\n",
    "    output_files.append(output_file)\n",
    "    \n",
    "    output_file_npz = f\"%s.npz\" % (output_file)\n",
    "    output_files_npz.append(output_file_npz)\n",
    "    \n",
    "    if save_heatmap:\n",
    "        heatmap_file = f\"%s_heatmap.png\" % (output_file)\n",
    "    else:\n",
    "        heatmap_file = \"\"\n",
    "    heatmap_files.append(heatmap_file)\n",
    "    \n",
    "    # Extra for metrics:\n",
    "    ground_truth_filename = f\"%s%s.png\" % (input_filename_wo_ext, ground_truth_filename_extra)\n",
    "\n",
    "    if ground_truth_folder:\n",
    "        if ground_truth_file_main:\n",
    "            ground_truth_file = f\"%s/%s\" % (ground_truth_folder, ground_truth_file_main)\n",
    "        else:\n",
    "            ground_truth_file = f\"%s/%s\" % (ground_truth_folder, ground_truth_filename)\n",
    "    else:\n",
    "        ground_truth_file = \"\"\n",
    "    \n",
    "    return input_file, output_files, fingerprint_files, output_files_npz, ground_truth_file, heatmap_files\n",
    "\n",
    "def get_multiple_models(modelnames, save_multiple):\n",
    "    if save_multiple and len(modelnames) > 0:\n",
    "        multiple_models = []\n",
    "        for modelname in modelnames:\n",
    "            multiple_models.append([modelname])\n",
    "        multiple_models.append(modelnames) # concatenated version\n",
    "        return multiple_models\n",
    "    else:\n",
    "        return [modelnames] # don't do multiple models\n",
    "    \n",
    "def get_csv_file(main_folder, dataset_name, modelnames, version):\n",
    "    csv_filename = \"results_%s\" % (dataset_name)\n",
    "    if len(modelnames) > 1:\n",
    "        csv_filename = \"%s_concat\" % csv_filename\n",
    "\n",
    "    for modelname in modelnames:\n",
    "        csv_filename = \"%s_%s\" % (csv_filename, modelname)\n",
    "\n",
    "    csv_filename = \"%s_%s.csv\" % (csv_filename, version)\n",
    "\n",
    "    results_csv_folder = f\"%s/Data/Datasets_output/csv\" % main_folder\n",
    "    csv_file = \"%s/%s\" % (results_csv_folder, csv_filename)\n",
    "    ensure_dir(csv_file)\n",
    "    return csv_file"
   ]
  },
  {
   "cell_type": "code",
   "execution_count": 21,
   "id": "c4c81488-c63e-45e5-a2c5-3cb03ee1933c",
   "metadata": {},
   "outputs": [
    {
     "name": "stdout",
     "output_type": "stream",
     "text": [
      "Fake images\n"
     ]
    }
   ],
   "source": [
    "if do_fake:\n",
    "    print(\"Fake images\")\n",
    "    input_folder_to_evaluate = input_folder\n",
    "    output_folder_to_evaluate = output_folder\n",
    "else: # do real folder\n",
    "    print(\"Real images\")\n",
    "    input_folder_to_evaluate = input_folder_real\n",
    "    output_folder_to_evaluate = output_folder_real"
   ]
  },
  {
   "cell_type": "code",
   "execution_count": 48,
   "id": "93facea3",
   "metadata": {},
   "outputs": [
    {
     "name": "stdout",
     "output_type": "stream",
     "text": [
      "Folder: /project/Data/Datasets/Random_tests\n",
      "Nr. of files found: 31\n"
     ]
    }
   ],
   "source": [
    "input_folder_files = os.listdir(input_folder_to_evaluate)\n",
    "print(\"Folder: %s\" % input_folder_to_evaluate)\n",
    "print(\"Nr. of files found: %d\" % len(input_folder_files))\n",
    "\n",
    "index_from = 0\n",
    "index_to = len(input_folder_files)"
   ]
  },
  {
   "cell_type": "markdown",
   "id": "fff6a65b-a882-4d1e-a9d5-c53ba2c564bf",
   "metadata": {
    "tags": []
   },
   "source": [
    "### Some optional code to select images"
   ]
  },
  {
   "cell_type": "code",
   "execution_count": 34,
   "id": "f30da7e9-3b0c-4393-89fd-7197c2795890",
   "metadata": {},
   "outputs": [],
   "source": [
    "#input_files_filename = \"/project/Data/Datasets_output/VIPP/DEMPSTER_SHAFER_FORENSICS/TIFS_RealisticDATASET/VIPP_full-jpg-ps-full_errors.txt\"\n",
    "input_files_filename = \"/project/Data/Datasets_output/VIPP/DEMPSTER_SHAFER_FORENSICS/TIFS_RealisticDATASET/VIPP_full-jpg-ps-full_errors.txt\""
   ]
  },
  {
   "cell_type": "code",
   "execution_count": 35,
   "id": "0a967cac-6b9b-4fbb-9b9b-737f834b512a",
   "metadata": {
    "tags": []
   },
   "outputs": [
    {
     "name": "stdout",
     "output_type": "stream",
     "text": [
      "Nr. of files found: 26\n"
     ]
    }
   ],
   "source": [
    "# Alternative, read from file with filenames line by line:\n",
    "with open(input_files_filename, \"r\") as input_files_file:\n",
    "    input_folder_files = input_files_file.read().splitlines()\n",
    "    \n",
    "print(\"Nr. of files found: %d\" % len(input_folder_files))"
   ]
  },
  {
   "cell_type": "code",
   "execution_count": 36,
   "id": "d9418944-fce3-4a40-babf-ef166ffae9f1",
   "metadata": {},
   "outputs": [
    {
     "name": "stdout",
     "output_type": "stream",
     "text": [
      "['Forgery_bullock.jpg', 'Forgery_DPP8_TIFF0396_final.jpg', 'Forgery_DSC_7745_edited.jpg', 'Forgery_final 10.jpg', 'Forgery_final 11.jpg', 'Forgery_final 12.jpg', 'Forgery_final 13.jpg', 'Forgery_final 14.jpg', 'Forgery_final 15.jpg', 'Forgery_final 16.jpg', 'Forgery_final 17.jpg', 'Forgery_final 2.jpg', 'Forgery_final 3.jpg', 'Forgery_final 4.jpg', 'Forgery_final 5.jpg', 'Forgery_final 6.jpg', 'Forgery_final 7.jpg', 'Forgery_final 8.jpg', 'Forgery_final 9.jpg', 'Forgery_final copia 2.jpg', 'Forgery_final.jpg', 'Forgery_final copia.jpg', 'Forgery_JPGAllin_1.jpg', 'Forgery_JPGDisall_1.jpg', 'Forgery_keira.jpg', 'Forgery_mercedes.jpg']\n"
     ]
    }
   ],
   "source": [
    "print(input_folder_files)"
   ]
  },
  {
   "cell_type": "code",
   "execution_count": 16,
   "id": "758d6e11",
   "metadata": {},
   "outputs": [
    {
     "data": {
      "text/plain": [
       "['9f5057f155.jpg']"
      ]
     },
     "execution_count": 16,
     "metadata": {},
     "output_type": "execute_result"
    }
   ],
   "source": [
    "# Check indexes\n",
    "input_folder_files[8500:8501]"
   ]
  },
  {
   "cell_type": "code",
   "execution_count": 38,
   "id": "c9452c32-c6ae-4d34-b521-12a9ced692cf",
   "metadata": {},
   "outputs": [
    {
     "name": "stdout",
     "output_type": "stream",
     "text": [
      "17904 does not exist: /project/Data/Datasets_output/OpenForensics/Test-Dev/e7265fb8f9.jpg_concat_full-jpg-ps-full_net.npz\n",
      "18894 does exist!\r"
     ]
    }
   ],
   "source": [
    "begin = 10000\n",
    "end = -1\n",
    "for i, file in enumerate(input_folder_files[begin:]):\n",
    "    f = \"/project/Data/Datasets_output/OpenForensics/Test-Dev/%s_concat_full-jpg-ps-full_net.npz\" % file\n",
    "    if not os.path.exists(f):\n",
    "        print(\"%d does not exist: %s\" % (begin+i, f))\n",
    "    else:\n",
    "        print(\"%d does exist!\" % (begin+i), end=\"\\r\")"
   ]
  },
  {
   "cell_type": "code",
   "execution_count": 49,
   "id": "f23a1fe5-d571-4b06-9281-d388218b0bf9",
   "metadata": {},
   "outputs": [
    {
     "name": "stdout",
     "output_type": "stream",
     "text": [
      "30\n"
     ]
    }
   ],
   "source": [
    "# Check indexes\n",
    "#i = input_folder_files.index(\"25683335783_e9776d1dc2_o_25113756266_fa33a41372_o.jpg\")\n",
    "#i = input_folder_files.index(\"39e9dc4240.jpg\")\n",
    "#i = input_folder_files.index(\"9b654dff44.jpg\")\n",
    "#i = input_folder_files.index(\"eaf1f7c59a.jpg\")\n",
    "#i = input_folder_files.index(\"facehub_jack-sparrow_hannes_crop.png\")\n",
    "#i = input_folder_files.index(\"13959892318_c4214fb287_o.jpg\")\n",
    "#i = input_folder_files.index(\"3607118426_3ea7c46269_o_3158822245_1130581249_o.jpg\")\n",
    "#i = input_folder_files.index(\"6ac18f295d.jpg\")\n",
    "#i = input_folder_files.index(\"dca19276cd.jpg\")\n",
    "#i = input_folder_files.index(\"c428039e46.jpg\")\n",
    "i = input_folder_files.index(\"BeforeVsAfter-2.png\")\n",
    "#i = input_folder_files.index(\"BeforeVsAfter-2-onlyBefore.png\")\n",
    "#i = input_folder_files.index(\"BeforeVsAfter-2-onlyAfter.png\")\n",
    "\n",
    "\n",
    "print(i)\n",
    "index_from = i\n",
    "index_to = index_from+1"
   ]
  },
  {
   "cell_type": "code",
   "execution_count": 28,
   "id": "e4420d22-e00d-4b5c-998a-950bc424670a",
   "metadata": {},
   "outputs": [],
   "source": [
    "#input_folder_files = [\"6ac18f295d.jpg\"]\n",
    "input_folder_files = [\"e0c84c5f54.jpg\"]"
   ]
  },
  {
   "cell_type": "code",
   "execution_count": 29,
   "id": "0808f464",
   "metadata": {},
   "outputs": [],
   "source": [
    "# Optional: only select subset\n",
    "index_from = 0\n",
    "#index_from = 7113\n",
    "#index_to = \n",
    "index_to = len(input_folder_files)\n",
    "#index_to = 1\n",
    "#index_to = 7113+1"
   ]
  },
  {
   "cell_type": "markdown",
   "id": "abe89466-1022-4e75-aacf-ea0263fc9c34",
   "metadata": {},
   "source": [
    "### Analysis code again"
   ]
  },
  {
   "cell_type": "code",
   "execution_count": 30,
   "id": "63eed591-228c-43e8-86b4-580a3d8694d1",
   "metadata": {},
   "outputs": [],
   "source": [
    "save_fingerprint = False\n",
    "save_fingerprint = True\n",
    "\n",
    "res_to_concat_filenames = []"
   ]
  },
  {
   "cell_type": "code",
   "execution_count": 50,
   "id": "d5bd276c-1e4d-4bae-bc38-be3b66457a1c",
   "metadata": {
    "tags": []
   },
   "outputs": [
    {
     "name": "stdout",
     "output_type": "stream",
     "text": [
      "\n",
      "Processing 30/31: BeforeVsAfter-2.png\n",
      "Finished in 22.996026 seconds\n",
      "Total time: 22.997505\n"
     ]
    }
   ],
   "source": [
    "tt = time()\n",
    "input_folder_files_len = len(input_folder_files)\n",
    "for i, input_filename in enumerate(input_folder_files[index_from:index_to]):\n",
    "    print(f'\\nProcessing %d/%d: %s' % (i+index_from, input_folder_files_len, input_filename))\n",
    "\n",
    "    # Set correct filenames\n",
    "    input_file, output_files, fingerprint_files, output_files_npz, ground_truth_file, heatmap_files = get_filenames(input_folder_to_evaluate, input_filename, output_folder_to_evaluate, modelnames, ground_truth_filename_extra, ground_truth_folder, ground_truth_file_main, False, save_multiple)\n",
    "    \n",
    "    succeeded = False\n",
    "    tries = 0\n",
    "    max_tries = 1 # extract_heatmap sometimes fails randomly, so try multiple times\n",
    "    while not succeeded and tries < max_tries:\n",
    "        try:\n",
    "            t = time()\n",
    "            if save_fingerprint:\n",
    "                splicebuster.main_blind_function.extract_heatmap_concat_multiple(input_file, output_files, models, res_to_concat_filenames, fingerprint_files, save_multiple=save_multiple)\n",
    "            else:\n",
    "                splicebuster.main_blind_function.extract_heatmap_concat_multiple(input_file, output_files, models, res_to_concat_filenames, save_multiple=save_multiple)\n",
    "\n",
    "            elapsed_time = time() - t\n",
    "            print(f\"Finished in %f seconds\" % elapsed_time)\n",
    "            succeeded = True\n",
    "        except Exception as e:\n",
    "            print(\"Error!\")\n",
    "            print(e)\n",
    "            tries = tries + 1\n",
    "            sleep(2) # Sleep 2 seconds\n",
    "\n",
    "total_elapsed_time = time() - tt\n",
    "print(\"Total time: %f\" % total_elapsed_time)"
   ]
  },
  {
   "cell_type": "markdown",
   "id": "83a1d88a",
   "metadata": {},
   "source": [
    "# Generate csv with localization metrics (MCC, AP, F1)"
   ]
  },
  {
   "cell_type": "code",
   "execution_count": 51,
   "id": "1a81a20c",
   "metadata": {},
   "outputs": [],
   "source": [
    "# Optional: only select subset\n",
    "index_from_metrics = index_from\n",
    "index_to_metrics = index_to\n",
    "#index_from_metrics = 0\n",
    "#index_to_metrics = len(input_folder_files)"
   ]
  },
  {
   "cell_type": "code",
   "execution_count": 52,
   "id": "13bf039c-6449-402d-8cc2-61290d446e37",
   "metadata": {},
   "outputs": [],
   "source": [
    "save_heatmap = False\n",
    "save_heatmap = True"
   ]
  },
  {
   "cell_type": "code",
   "execution_count": 53,
   "id": "dffab1b7",
   "metadata": {},
   "outputs": [
    {
     "name": "stdout",
     "output_type": "stream",
     "text": [
      "/project/Data/Datasets_output/csv/results_Random_tests_full-jpg-ps-full_20220616-0.csv\n"
     ]
    }
   ],
   "source": [
    "version = \"20220616-0\"\n",
    "#version = \"exp\"\n",
    "\n",
    "csv_file = get_csv_file(main_folder, dataset_name, modelnames, version)\n",
    "print(csv_file)"
   ]
  },
  {
   "cell_type": "code",
   "execution_count": 54,
   "id": "94c38b16-4a9f-4d2d-8486-fb7b9836fc6c",
   "metadata": {},
   "outputs": [
    {
     "name": "stdout",
     "output_type": "stream",
     "text": [
      "0 ['full-jpg-ps-full']\n",
      "/project/Data/Datasets_output/csv/results_Random_tests_full-jpg-ps-full_20220616-0.csv\n"
     ]
    }
   ],
   "source": [
    "multiple_models = get_multiple_models(modelnames, save_multiple)\n",
    "for m_i, modelname in enumerate(multiple_models):\n",
    "    print(m_i, modelname)\n",
    "    csv_file = get_csv_file(main_folder, dataset_name, modelname, version)\n",
    "    print(csv_file)"
   ]
  },
  {
   "cell_type": "code",
   "execution_count": 55,
   "id": "6a6da42c-5f62-4dd2-a5f8-da2d12e258a8",
   "metadata": {
    "tags": []
   },
   "outputs": [
    {
     "name": "stdout",
     "output_type": "stream",
     "text": [
      "0 ['full-jpg-ps-full']\n",
      "/project/Data/Datasets_output/csv/results_Random_tests_full-jpg-ps-full_20220616-0.csv\n",
      "\n",
      "Processing 30/31: BeforeVsAfter-2.png\n",
      "Heatmap saved to /project/Data/Datasets_output/Random_tests/BeforeVsAfter-2.png_full-jpg-ps-full_heatmap.png\n",
      "BeforeVsAfter-2.png, nan, nan, nan\n",
      "Total time: 0.824453\n"
     ]
    }
   ],
   "source": [
    "multiple_models = get_multiple_models(modelnames, save_multiple)\n",
    "for m_i, modelname in enumerate(multiple_models):\n",
    "    #if len(multiple_models) == 0 or modelname != \"net\":\n",
    "    if True:\n",
    "        print(m_i, modelname)\n",
    "        csv_file = get_csv_file(main_folder, dataset_name, modelname, version)\n",
    "        print(csv_file)\n",
    "\n",
    "        tt = time()\n",
    "        input_folder_files_len = len(input_folder_files)\n",
    "\n",
    "        errors = []\n",
    "        with open(csv_file, 'w', newline='') as csvfile:\n",
    "            writer = csv.writer(csvfile, delimiter=';')\n",
    "            writer.writerow(['file', 'MCC', 'AP', 'F1'])\n",
    "\n",
    "            for i, input_filename in enumerate(input_folder_files[index_from_metrics:index_to_metrics]):\n",
    "                print(f'\\nProcessing %d/%d: %s' % (i+index_from_metrics, input_folder_files_len, input_filename))\n",
    "\n",
    "                # Set correct filenames\n",
    "                input_file, output_files, fingerprint_files, output_files_npz, ground_truth_file, heatmap_files = get_filenames(input_folder_to_evaluate, input_filename, output_folder_to_evaluate, modelnames, ground_truth_filename_extra, ground_truth_folder, ground_truth_file_main, save_heatmap, save_multiple)\n",
    "\n",
    "                output_file = output_files[m_i]\n",
    "                output_file_npz = output_files_npz[m_i]\n",
    "                heatmap_file = heatmap_files[m_i]\n",
    "\n",
    "                try:\n",
    "                    mcc, ap, f1 = splicebuster.main_metrics.detection_metrics(ground_truth_file, output_file_npz, heatmap_filename=heatmap_file, do_invert=do_invert)\n",
    "                except Exception as e:\n",
    "                    mcc, ap, f1 = np.nan, np.nan, np.nan\n",
    "                    error = (i, input_filename, e)\n",
    "                    print(error)\n",
    "                    errors.append(error)\n",
    "\n",
    "                print(\"%s, %s, %s, %s\" % (input_filename, mcc, ap, f1))\n",
    "                if ground_truth_folder:\n",
    "                    writer.writerow([input_filename, mcc, ap, f1])\n",
    "\n",
    "        total_elapsed_time = time() - tt\n",
    "        print(\"Total time: %f\" % total_elapsed_time)\n",
    "\n",
    "        if len(errors) > 0:\n",
    "            print(\"Errors: %d\" % len(errors))\n",
    "            print(errors)"
   ]
  },
  {
   "cell_type": "markdown",
   "id": "ef7bde91-2976-4b60-86a7-8f9d2e25d4b3",
   "metadata": {},
   "source": [
    "# Generate csv with detection metrics (AUC)"
   ]
  },
  {
   "cell_type": "code",
   "execution_count": 16,
   "id": "71713cc4-15f5-4a6b-b487-9f385cb73470",
   "metadata": {},
   "outputs": [],
   "source": [
    "import os\n",
    "import pandas\n",
    "\n",
    "from glob import glob\n",
    "from tqdm.notebook import tqdm\n",
    "from multiprocessing import Pool\n",
    "from sklearn.metrics import roc_auc_score, roc_curve\n",
    "\n",
    "import sys"
   ]
  },
  {
   "cell_type": "code",
   "execution_count": 26,
   "id": "a6792982-9922-4caf-a57b-c1ae6569b159",
   "metadata": {},
   "outputs": [],
   "source": [
    "operations = {\n",
    "    'mean'   : np.nanmean,\n",
    "    'median' : np.nanmedian,\n",
    "    'std'    : np.nanstd,\n",
    "    'max'    : lambda x : np.nanmax(x),\n",
    "    'perc750': lambda x : np.nanpercentile(x, 75.0),\n",
    "    'perc900': lambda x : np.nanpercentile(x, 90.0),\n",
    "    'perc950': lambda x : np.nanpercentile(x, 95.0),\n",
    "    'perc960': lambda x : np.nanpercentile(x, 96.0),\n",
    "    'perc970': lambda x : np.nanpercentile(x, 97.0),\n",
    "    'perc975': lambda x : np.nanpercentile(x, 97.5),\n",
    "    'perc980': lambda x : np.nanpercentile(x, 98.0),\n",
    "    'perc985': lambda x : np.nanpercentile(x, 98.5),\n",
    "    'perc990': lambda x : np.nanpercentile(x, 99.0),\n",
    "    'perc995': lambda x : np.nanpercentile(x, 99.5),\n",
    "}\n",
    "\n",
    "#operations = {\n",
    "#    'mean'   : np.nanmean\n",
    "#}\n",
    "\n",
    "ops_to_save = [\n",
    "    'mean', \n",
    "    'median', \n",
    "    'std', \n",
    "    'max', \n",
    "    'perc975',\n",
    "    'perc995'\n",
    "]\n",
    "\n",
    "#ops_to_save = operations\n",
    "\n",
    "\n",
    "#num_threads = 1\n",
    "#num_threads = 2\n",
    "num_threads = 4\n",
    "\n",
    "find_best_threshold = True\n",
    "#find_best_threshold = False"
   ]
  },
  {
   "cell_type": "code",
   "execution_count": 18,
   "id": "6a76a853-c532-4683-a63c-db55cde4ed5c",
   "metadata": {},
   "outputs": [],
   "source": [
    "def pd_at_far(y_true, y_score, tnr_th=0.9):\n",
    "    fpr, tpr, thresholds = roc_curve(y_true, y_score)\n",
    "    return np.interp(1.0-tnr_th, fpr, tpr)\n",
    "\n",
    "#def extract_global_features(input_folder, input_filename, output_folder, modelnames, operations):\n",
    "def extract_global_features(input_folder_to_eval, input_filename, output_folder_to_eval):\n",
    "    # Treat modelnames and operations as global unchanging variables\n",
    "    try:\n",
    "        # Set correct filenames\n",
    "        input_file, output_files, fingerprint_files, output_files_npz, ground_truth_file, heatmap_files = get_filenames(input_folder_to_eval, input_filename, output_folder_to_eval, modelnames, \"\", \"\", \"\", False, False)\n",
    "        output_file = output_files[0]\n",
    "        \n",
    "        # Load heatmap npz file\n",
    "        output_file += \".npz\"\n",
    "        #try:\n",
    "        map = np.load(output_file)['map']\n",
    "        #except ValueError:\n",
    "            #map = np.load(output_file, allow_pickle=True)['map']\n",
    "        #print(map.files)\n",
    "        \n",
    "        # Apply all operations\n",
    "        results = list()\n",
    "        for o, op in enumerate(operations):\n",
    "            try:\n",
    "                results.append(operations[op](map)) # extracts global features (max, mean, ...)\n",
    "            except Exception as e:\n",
    "                error = (output_file, e)\n",
    "                print(error)\n",
    "                results.append(np.nan)\n",
    "        return results\n",
    "\n",
    "    except Exception as e:\n",
    "        error = (input_filename, output_file, e)\n",
    "        print(error)\n",
    "        return [np.nan]*len(operations)"
   ]
  },
  {
   "cell_type": "code",
   "execution_count": 48,
   "id": "485ac092-5f1e-4407-b913-79fc8cc758be",
   "metadata": {},
   "outputs": [
    {
     "name": "stdout",
     "output_type": "stream",
     "text": [
      "/project/Data/Datasets_output/csv/results_FaceSwap_concat_full-jpg-ps-full_net_detection_20220517-0.csv\n"
     ]
    }
   ],
   "source": [
    "# Detection in the name for these\n",
    "version = \"detection_20220517-0\"\n",
    "\n",
    "csv_file = get_csv_file(main_folder, dataset_name, modelnames, version)\n",
    "print(csv_file)"
   ]
  },
  {
   "cell_type": "code",
   "execution_count": 49,
   "id": "b1df6697-4827-4783-9b45-dd28a66a0344",
   "metadata": {},
   "outputs": [
    {
     "name": "stdout",
     "output_type": "stream",
     "text": [
      "('21223585073_0bee5cee6f_o.jpg', '/project/Data/Datasets_output/FaceSwap_jpg/real/21223585073_0bee5cee6f_o.jpg_concat_full-jpg-ps-full_net.npz', FileNotFoundError(2, 'No such file or directory'))\n",
      "('14848702261_34f0465251_o.jpg', '/project/Data/Datasets_output/FaceSwap_jpg/real/14848702261_34f0465251_o.jpg_concat_full-jpg-ps-full_net.npz', FileNotFoundError(2, 'No such file or directory'))\n",
      "('21643788133_f600c411e6_o.jpg', '/project/Data/Datasets_output/FaceSwap_jpg/real/21643788133_f600c411e6_o.jpg_concat_full-jpg-ps-full_net.npz', FileNotFoundError(2, 'No such file or directory'))\n",
      "('22845693169_72ae4da6a7_o.jpg', '/project/Data/Datasets_output/FaceSwap_jpg/real/22845693169_72ae4da6a7_o.jpg_concat_full-jpg-ps-full_net.npz', FileNotFoundError(2, 'No such file or directory'))\n",
      "('10003456176_d0a42279b1_o.jpg', '/project/Data/Datasets_output/FaceSwap_jpg/real/10003456176_d0a42279b1_o.jpg_concat_full-jpg-ps-full_net.npz', FileNotFoundError(2, 'No such file or directory'))\n",
      "('23241487024_10c416a7c5_o.jpg', '/project/Data/Datasets_output/FaceSwap_jpg/real/23241487024_10c416a7c5_o.jpg_concat_full-jpg-ps-full_net.npz', FileNotFoundError(2, 'No such file or directory'))\n",
      "('24736056623_6955f04a41_o.jpg', '/project/Data/Datasets_output/FaceSwap_jpg/real/24736056623_6955f04a41_o.jpg_concat_full-jpg-ps-full_net.npz', FileNotFoundError(2, 'No such file or directory'))\n",
      "('19193503265_822acf14f0_o.jpg', '/project/Data/Datasets_output/FaceSwap_jpg/real/19193503265_822acf14f0_o.jpg_concat_full-jpg-ps-full_net.npz', FileNotFoundError(2, 'No such file or directory'))\n",
      "('25426895884_3ef996b08a_o.jpg', '/project/Data/Datasets_output/FaceSwap_jpg/real/25426895884_3ef996b08a_o.jpg_concat_full-jpg-ps-full_net.npz', FileNotFoundError(2, 'No such file or directory'))\n",
      "('15829948408_e62476d368_o.jpg', '/project/Data/Datasets_output/FaceSwap_jpg/real/15829948408_e62476d368_o.jpg_concat_full-jpg-ps-full_net.npz', FileNotFoundError(2, 'No such file or directory'))\n",
      "('15212342648_27e0ca7fa1_o.jpg', '/project/Data/Datasets_output/FaceSwap_jpg/real/15212342648_27e0ca7fa1_o.jpg_concat_full-jpg-ps-full_net.npz', FileNotFoundError(2, 'No such file or directory'))\n",
      "('15400215663_81f0b5c2a9_o.jpg', '/project/Data/Datasets_output/FaceSwap_jpg/real/15400215663_81f0b5c2a9_o.jpg_concat_full-jpg-ps-full_net.npz', FileNotFoundError(2, 'No such file or directory'))\n",
      "('21641954824_ce055eb91d_o.jpg', '/project/Data/Datasets_output/FaceSwap_jpg/real/21641954824_ce055eb91d_o.jpg_concat_full-jpg-ps-full_net.npz', FileNotFoundError(2, 'No such file or directory'))\n",
      "('21807339793_861dcf60d4_o.jpg', '/project/Data/Datasets_output/FaceSwap_jpg/real/21807339793_861dcf60d4_o.jpg_concat_full-jpg-ps-full_net.npz', FileNotFoundError(2, 'No such file or directory'))\n",
      "('18382717974_6b54c26012_o.jpg', '/project/Data/Datasets_output/FaceSwap_jpg/real/18382717974_6b54c26012_o.jpg_concat_full-jpg-ps-full_net.npz', FileNotFoundError(2, 'No such file or directory'))\n",
      "('23967818871_d6ce6caa50_o.jpg', '/project/Data/Datasets_output/FaceSwap_jpg/real/23967818871_d6ce6caa50_o.jpg_concat_full-jpg-ps-full_net.npz', FileNotFoundError(2, 'No such file or directory'))\n",
      "('24049998845_898e98930b_o.jpg', '/project/Data/Datasets_output/FaceSwap_jpg/real/24049998845_898e98930b_o.jpg_concat_full-jpg-ps-full_net.npz', FileNotFoundError(2, 'No such file or directory'))\n",
      "('24933437576_83617759a6_o.jpg', '/project/Data/Datasets_output/FaceSwap_jpg/real/24933437576_83617759a6_o.jpg_concat_full-jpg-ps-full_net.npz', FileNotFoundError(2, 'No such file or directory'))\n",
      "('25067026170_18836f4d93_o.jpg', '/project/Data/Datasets_output/FaceSwap_jpg/real/25067026170_18836f4d93_o.jpg_concat_full-jpg-ps-full_net.npz', FileNotFoundError(2, 'No such file or directory'))\n",
      "('19328149423_3a05e72a35_o.jpg', '/project/Data/Datasets_output/FaceSwap_jpg/real/19328149423_3a05e72a35_o.jpg_concat_full-jpg-ps-full_net.npz', FileNotFoundError(2, 'No such file or directory'))\n",
      "('21643678933_a399914b9a_o.jpg', '/project/Data/Datasets_output/FaceSwap_jpg/real/21643678933_a399914b9a_o.jpg_concat_full-jpg-ps-full_net.npz', FileNotFoundError(2, 'No such file or directory'))\n",
      "('26402899275_24fbdbf49d_o.jpg', '/project/Data/Datasets_output/FaceSwap_jpg/real/26402899275_24fbdbf49d_o.jpg_concat_full-jpg-ps-full_net.npz', FileNotFoundError(2, 'No such file or directory'))\n",
      "('21641826454_e31d5ac67a_o.jpg', '/project/Data/Datasets_output/FaceSwap_jpg/real/21641826454_e31d5ac67a_o.jpg_concat_full-jpg-ps-full_net.npz', FileNotFoundError(2, 'No such file or directory'))\n",
      "('21802341682_b6e6924a66_o.jpg', '/project/Data/Datasets_output/FaceSwap_jpg/real/21802341682_b6e6924a66_o.jpg_concat_full-jpg-ps-full_net.npz', FileNotFoundError(2, 'No such file or directory'))\n",
      "('24047697453_85ca44a4e4_o.jpg', '/project/Data/Datasets_output/FaceSwap_jpg/real/24047697453_85ca44a4e4_o.jpg_concat_full-jpg-ps-full_net.npz', FileNotFoundError(2, 'No such file or directory'))\n",
      "('24581001580_24d76abcd4_o.jpg', '/project/Data/Datasets_output/FaceSwap_jpg/real/24581001580_24d76abcd4_o.jpg_concat_full-jpg-ps-full_net.npz', FileNotFoundError(2, 'No such file or directory'))\n",
      "('22580887345_d86415a8b2_o.jpg', '/project/Data/Datasets_output/FaceSwap_jpg/real/22580887345_d86415a8b2_o.jpg_concat_full-jpg-ps-full_net.npz', FileNotFoundError(2, 'No such file or directory'))\n",
      "('25244444292_618484f1a4_o.jpg', '/project/Data/Datasets_output/FaceSwap_jpg/real/25244444292_618484f1a4_o.jpg_concat_full-jpg-ps-full_net.npz', FileNotFoundError(2, 'No such file or directory'))\n",
      "('26059049132_85e75ea83f_o.jpg', '/project/Data/Datasets_output/FaceSwap_jpg/real/26059049132_85e75ea83f_o.jpg_concat_full-jpg-ps-full_net.npz', FileNotFoundError(2, 'No such file or directory'))\n",
      "('6818106618_e3d94b762d_o.jpg', '/project/Data/Datasets_output/FaceSwap_jpg/real/6818106618_e3d94b762d_o.jpg_concat_full-jpg-ps-full_net.npz', FileNotFoundError(2, 'No such file or directory'))\n",
      "('24058753584_4cc16efe6e_o.jpg', '/project/Data/Datasets_output/FaceSwap_jpg/real/24058753584_4cc16efe6e_o.jpg_concat_full-jpg-ps-full_net.npz', FileNotFoundError(2, 'No such file or directory'))\n",
      "('16702717501_470f738e33_o.jpg', '/project/Data/Datasets_output/FaceSwap_jpg/real/16702717501_470f738e33_o.jpg_concat_full-jpg-ps-full_net.npz', FileNotFoundError(2, 'No such file or directory'))\n",
      "('19529132826_38e1645545_o.jpg', '/project/Data/Datasets_output/FaceSwap_jpg/real/19529132826_38e1645545_o.jpg_concat_full-jpg-ps-full_net.npz', FileNotFoundError(2, 'No such file or directory'))\n",
      "('20969168404_5f16e69333_o.jpg', '/project/Data/Datasets_output/FaceSwap_jpg/real/20969168404_5f16e69333_o.jpg_concat_full-jpg-ps-full_net.npz', FileNotFoundError(2, 'No such file or directory'))\n",
      "('16958557889_aae9454445_o.jpg', '/project/Data/Datasets_output/FaceSwap_jpg/real/16958557889_aae9454445_o.jpg_concat_full-jpg-ps-full_net.npz', FileNotFoundError(2, 'No such file or directory'))\n",
      "('19062970884_65baa76701_o.jpg', '/project/Data/Datasets_output/FaceSwap_jpg/real/19062970884_65baa76701_o.jpg_concat_full-jpg-ps-full_net.npz', FileNotFoundError(2, 'No such file or directory'))\n",
      "('20474378611_8799c9bcfa_o.jpg', '/project/Data/Datasets_output/FaceSwap_jpg/real/20474378611_8799c9bcfa_o.jpg_concat_full-jpg-ps-full_net.npz', FileNotFoundError(2, 'No such file or directory'))\n",
      "('15613889731_f4a02a919f_o.jpg', '/project/Data/Datasets_output/FaceSwap_jpg/real/15613889731_f4a02a919f_o.jpg_concat_full-jpg-ps-full_net.npz', FileNotFoundError(2, 'No such file or directory'))\n",
      "('22240556206_3862559c08_o.jpg', '/project/Data/Datasets_output/FaceSwap_jpg/real/22240556206_3862559c08_o.jpg_concat_full-jpg-ps-full_net.npz', FileNotFoundError(2, 'No such file or directory'))\n",
      "('8255715907_771b09efbb_o.jpg', '/project/Data/Datasets_output/FaceSwap_jpg/real/8255715907_771b09efbb_o.jpg_concat_full-jpg-ps-full_net.npz', FileNotFoundError(2, 'No such file or directory'))\n",
      "('9248581894_c1a59dcfe0_o.jpg', '/project/Data/Datasets_output/FaceSwap_jpg/real/9248581894_c1a59dcfe0_o.jpg_concat_full-jpg-ps-full_net.npz', FileNotFoundError(2, 'No such file or directory'))\n",
      "('24393684010_e9ecb59f5b_o.jpg', '/project/Data/Datasets_output/FaceSwap_jpg/real/24393684010_e9ecb59f5b_o.jpg_concat_full-jpg-ps-full_net.npz', FileNotFoundError(2, 'No such file or directory'))\n",
      "('8190279239_12ca52131a_o.jpg', '/project/Data/Datasets_output/FaceSwap_jpg/real/8190279239_12ca52131a_o.jpg_concat_full-jpg-ps-full_net.npz', FileNotFoundError(2, 'No such file or directory'))\n",
      "('8633253365_1ee0b553cc_o.jpg', '/project/Data/Datasets_output/FaceSwap_jpg/real/8633253365_1ee0b553cc_o.jpg_concat_full-jpg-ps-full_net.npz', FileNotFoundError(2, 'No such file or directory'))\n",
      "('14876546938_dbfe789697_o.jpg', '/project/Data/Datasets_output/FaceSwap_jpg/real/14876546938_dbfe789697_o.jpg_concat_full-jpg-ps-full_net.npz', FileNotFoundError(2, 'No such file or directory'))\n",
      "('14214200074_2680885432_o.jpg', '/project/Data/Datasets_output/FaceSwap_jpg/real/14214200074_2680885432_o.jpg_concat_full-jpg-ps-full_net.npz', FileNotFoundError(2, 'No such file or directory'))\n",
      "('16432197714_bcf51419e9_o.jpg', '/project/Data/Datasets_output/FaceSwap_jpg/real/16432197714_bcf51419e9_o.jpg_concat_full-jpg-ps-full_net.npz', FileNotFoundError(2, 'No such file or directory'))\n",
      "('9260521351_cd64e6e069_o.jpg', '/project/Data/Datasets_output/FaceSwap_jpg/real/9260521351_cd64e6e069_o.jpg_concat_full-jpg-ps-full_net.npz', FileNotFoundError(2, 'No such file or directory'))\n",
      "('22757552364_536edc304b_o.jpg', '/project/Data/Datasets_output/FaceSwap_jpg/real/22757552364_536edc304b_o.jpg_concat_full-jpg-ps-full_net.npz', FileNotFoundError(2, 'No such file or directory'))\n",
      "('23947202344_53076fb984_o.jpg', '/project/Data/Datasets_output/FaceSwap_jpg/real/23947202344_53076fb984_o.jpg_concat_full-jpg-ps-full_net.npz', FileNotFoundError(2, 'No such file or directory'))\n",
      "('19158908034_1ecb2910ca_o.jpg', '/project/Data/Datasets_output/FaceSwap_jpg/real/19158908034_1ecb2910ca_o.jpg_concat_full-jpg-ps-full_net.npz', FileNotFoundError(2, 'No such file or directory'))\n",
      "('22521377756_454d33395f_o.jpg', '/project/Data/Datasets_output/FaceSwap_jpg/real/22521377756_454d33395f_o.jpg_concat_full-jpg-ps-full_net.npz', FileNotFoundError(2, 'No such file or directory'))\n",
      "('16404602624_ff77891583_o.jpg', '/project/Data/Datasets_output/FaceSwap_jpg/real/16404602624_ff77891583_o.jpg_concat_full-jpg-ps-full_net.npz', FileNotFoundError(2, 'No such file or directory'))\n",
      "('14740510502_eaa0293629_o.jpg', '/project/Data/Datasets_output/FaceSwap_jpg/real/14740510502_eaa0293629_o.jpg_concat_full-jpg-ps-full_net.npz', FileNotFoundError(2, 'No such file or directory'))\n",
      "('5748448155_0412ae2614_o.jpg', '/project/Data/Datasets_output/FaceSwap_jpg/real/5748448155_0412ae2614_o.jpg_concat_full-jpg-ps-full_net.npz', FileNotFoundError(2, 'No such file or directory'))\n",
      "('20853086240_8777eb36c9_o.jpg', '/project/Data/Datasets_output/FaceSwap_jpg/real/20853086240_8777eb36c9_o.jpg_concat_full-jpg-ps-full_net.npz', FileNotFoundError(2, 'No such file or directory'))\n",
      "('22032585710_64bd93d0f7_o.jpg', '/project/Data/Datasets_output/FaceSwap_jpg/real/22032585710_64bd93d0f7_o.jpg_concat_full-jpg-ps-full_net.npz', FileNotFoundError(2, 'No such file or directory'))\n",
      "('19142805645_77158a77b7_o.jpg', '/project/Data/Datasets_output/FaceSwap_jpg/real/19142805645_77158a77b7_o.jpg_concat_full-jpg-ps-full_net.npz', FileNotFoundError(2, 'No such file or directory'))\n",
      "('23375062862_cb67be9045_o.jpg', '/project/Data/Datasets_output/FaceSwap_jpg/real/23375062862_cb67be9045_o.jpg_concat_full-jpg-ps-full_net.npz', FileNotFoundError(2, 'No such file or directory'))\n",
      "('20273040526_e00cf57c97_o.jpg', '/project/Data/Datasets_output/FaceSwap_jpg/real/20273040526_e00cf57c97_o.jpg_concat_full-jpg-ps-full_net.npz', FileNotFoundError(2, 'No such file or directory'))\n",
      "('24569643242_403ef331e1_o.jpg', '/project/Data/Datasets_output/FaceSwap_jpg/real/24569643242_403ef331e1_o.jpg_concat_full-jpg-ps-full_net.npz', FileNotFoundError(2, 'No such file or directory'))\n",
      "('23080558842_c584be8780_o.jpg', '/project/Data/Datasets_output/FaceSwap_jpg/real/23080558842_c584be8780_o.jpg_concat_full-jpg-ps-full_net.npz', FileNotFoundError(2, 'No such file or directory'))\n",
      "('14849321254_bf33411eac_o.jpg', '/project/Data/Datasets_output/FaceSwap_jpg/real/14849321254_bf33411eac_o.jpg_concat_full-jpg-ps-full_net.npz', FileNotFoundError(2, 'No such file or directory'))\n",
      "('22165027424_81408d431d_o.jpg', '/project/Data/Datasets_output/FaceSwap_jpg/real/22165027424_81408d431d_o.jpg_concat_full-jpg-ps-full_net.npz', FileNotFoundError(2, 'No such file or directory'))\n",
      "('22660048334_d772a55ed9_o.jpg', '/project/Data/Datasets_output/FaceSwap_jpg/real/22660048334_d772a55ed9_o.jpg_concat_full-jpg-ps-full_net.npz', FileNotFoundError(2, 'No such file or directory'))\n",
      "('8032789087_51f6b1920c_o.jpg', '/project/Data/Datasets_output/FaceSwap_jpg/real/8032789087_51f6b1920c_o.jpg_concat_full-jpg-ps-full_net.npz', FileNotFoundError(2, 'No such file or directory'))\n",
      "('21642079454_8a099d5e56_o.jpg', '/project/Data/Datasets_output/FaceSwap_jpg/real/21642079454_8a099d5e56_o.jpg_concat_full-jpg-ps-full_net.npz', FileNotFoundError(2, 'No such file or directory'))\n",
      "('21763217414_a5ba3e5100_o.jpg', '/project/Data/Datasets_output/FaceSwap_jpg/real/21763217414_a5ba3e5100_o.jpg_concat_full-jpg-ps-full_net.npz', FileNotFoundError(2, 'No such file or directory'))\n",
      "('14526390256_e2f4686290_o.jpg', '/project/Data/Datasets_output/FaceSwap_jpg/real/14526390256_e2f4686290_o.jpg_concat_full-jpg-ps-full_net.npz', FileNotFoundError(2, 'No such file or directory'))\n",
      "('8734960590_8ccc5bd1e9_o.jpg', '/project/Data/Datasets_output/FaceSwap_jpg/real/8734960590_8ccc5bd1e9_o.jpg_concat_full-jpg-ps-full_net.npz', FileNotFoundError(2, 'No such file or directory'))\n",
      "('15429920579_5a3b7ab5f3_o.jpg', '/project/Data/Datasets_output/FaceSwap_jpg/real/15429920579_5a3b7ab5f3_o.jpg_concat_full-jpg-ps-full_net.npz', FileNotFoundError(2, 'No such file or directory'))\n",
      "('22572680619_664110d561_o.jpg', '/project/Data/Datasets_output/FaceSwap_jpg/real/22572680619_664110d561_o.jpg_concat_full-jpg-ps-full_net.npz', FileNotFoundError(2, 'No such file or directory'))\n",
      "('18818848938_191cf5e0ce_o.jpg', '/project/Data/Datasets_output/FaceSwap_jpg/real/18818848938_191cf5e0ce_o.jpg_concat_full-jpg-ps-full_net.npz', FileNotFoundError(2, 'No such file or directory'))\n",
      "('24471260842_8894a74d0f_o.jpg', '/project/Data/Datasets_output/FaceSwap_jpg/real/24471260842_8894a74d0f_o.jpg_concat_full-jpg-ps-full_net.npz', FileNotFoundError(2, 'No such file or directory'))\n",
      "('16741477370_86e079f45c_o.jpg', '/project/Data/Datasets_output/FaceSwap_jpg/real/16741477370_86e079f45c_o.jpg_concat_full-jpg-ps-full_net.npz', FileNotFoundError(2, 'No such file or directory'))\n",
      "('16950387556_38cdbb54bc_o.jpg', '/project/Data/Datasets_output/FaceSwap_jpg/real/16950387556_38cdbb54bc_o.jpg_concat_full-jpg-ps-full_net.npz', FileNotFoundError(2, 'No such file or directory'))\n",
      "('10463266145_44f783edcc_o.jpg', '/project/Data/Datasets_output/FaceSwap_jpg/real/10463266145_44f783edcc_o.jpg_concat_full-jpg-ps-full_net.npz', FileNotFoundError(2, 'No such file or directory'))\n",
      "('18291998595_062802061d_o.jpg', '/project/Data/Datasets_output/FaceSwap_jpg/real/18291998595_062802061d_o.jpg_concat_full-jpg-ps-full_net.npz', FileNotFoundError(2, 'No such file or directory'))\n",
      "('15765529126_32025ccd26_o.jpg', '/project/Data/Datasets_output/FaceSwap_jpg/real/15765529126_32025ccd26_o.jpg_concat_full-jpg-ps-full_net.npz', FileNotFoundError(2, 'No such file or directory'))\n",
      "('15812091259_02a372e3e8_o.jpg', '/project/Data/Datasets_output/FaceSwap_jpg/real/15812091259_02a372e3e8_o.jpg_concat_full-jpg-ps-full_net.npz', FileNotFoundError(2, 'No such file or directory'))\n",
      "('14757056106_fd07752f16_o.jpg', '/project/Data/Datasets_output/FaceSwap_jpg/real/14757056106_fd07752f16_o.jpg_concat_full-jpg-ps-full_net.npz', FileNotFoundError(2, 'No such file or directory'))\n",
      "('25608115475_4d8e650151_o.jpg', '/project/Data/Datasets_output/FaceSwap_jpg/real/25608115475_4d8e650151_o.jpg_concat_full-jpg-ps-full_net.npz', FileNotFoundError(2, 'No such file or directory'))\n",
      "('22166594593_7cfb0a76d1_o.jpg', '/project/Data/Datasets_output/FaceSwap_jpg/real/22166594593_7cfb0a76d1_o.jpg_concat_full-jpg-ps-full_net.npz', FileNotFoundError(2, 'No such file or directory'))\n",
      "('23423692083_ae72c06465_o.jpg', '/project/Data/Datasets_output/FaceSwap_jpg/real/23423692083_ae72c06465_o.jpg_concat_full-jpg-ps-full_net.npz', FileNotFoundError(2, 'No such file or directory'))\n",
      "('26090548311_aef17f32fe_o.jpg', '/project/Data/Datasets_output/FaceSwap_jpg/real/26090548311_aef17f32fe_o.jpg_concat_full-jpg-ps-full_net.npz', FileNotFoundError(2, 'No such file or directory'))\n",
      "('24648331949_1fc04314bc_o.jpg', '/project/Data/Datasets_output/FaceSwap_jpg/real/24648331949_1fc04314bc_o.jpg_concat_full-jpg-ps-full_net.npz', FileNotFoundError(2, 'No such file or directory'))\n",
      "('25471185432_03d29a616a_o.jpg', '/project/Data/Datasets_output/FaceSwap_jpg/real/25471185432_03d29a616a_o.jpg_concat_full-jpg-ps-full_net.npz', FileNotFoundError(2, 'No such file or directory'))\n",
      "('14526390256_e2f4686290_o_14688273621_788acc8782_o.jpg', '/project/Data/Datasets_output/FaceSwap_jpg/fake/14526390256_e2f4686290_o_14688273621_788acc8782_o.jpg_concat_full-jpg-ps-full_net.npz', FileNotFoundError(2, 'No such file or directory'))\n",
      "('8344033592_3cc35c092f_o.jpg', '/project/Data/Datasets_output/FaceSwap_jpg/real/8344033592_3cc35c092f_o.jpg_concat_full-jpg-ps-full_net.npz', FileNotFoundError(2, 'No such file or directory'))\n",
      "('9274581833_5661946789_o.jpg', '/project/Data/Datasets_output/FaceSwap_jpg/real/9274581833_5661946789_o.jpg_concat_full-jpg-ps-full_net.npz', FileNotFoundError(2, 'No such file or directory'))\n",
      "('15666717882_7dd5966c07_o.jpg', '/project/Data/Datasets_output/FaceSwap_jpg/real/15666717882_7dd5966c07_o.jpg_concat_full-jpg-ps-full_net.npz', FileNotFoundError(2, 'No such file or directory'))\n",
      "('14876546938_dbfe789697_o_14380185944_48158f39b3_o.jpg', '/project/Data/Datasets_output/FaceSwap_jpg/fake/14876546938_dbfe789697_o_14380185944_48158f39b3_o.jpg_concat_full-jpg-ps-full_net.npz', FileNotFoundError(2, 'No such file or directory'))\n",
      "('14593441109_7667540275_o.jpg', '/project/Data/Datasets_output/FaceSwap_jpg/real/14593441109_7667540275_o.jpg_concat_full-jpg-ps-full_net.npz', FileNotFoundError(2, 'No such file or directory'))\n",
      "('24047697453_85ca44a4e4_o_26230168430_716677bf39_o.jpg', '/project/Data/Datasets_output/FaceSwap_jpg/fake/24047697453_85ca44a4e4_o_26230168430_716677bf39_o.jpg_concat_full-jpg-ps-full_net.npz', FileNotFoundError(2, 'No such file or directory'))\n",
      "('21641826454_e31d5ac67a_o_24207451873_e6f12f6dce_o.jpg', '/project/Data/Datasets_output/FaceSwap_jpg/fake/21641826454_e31d5ac67a_o_24207451873_e6f12f6dce_o.jpg_concat_full-jpg-ps-full_net.npz', FileNotFoundError(2, 'No such file or directory'))\n",
      "('22580887345_d86415a8b2_o_25538521990_f3a22bd2b7_o.jpg', '/project/Data/Datasets_output/FaceSwap_jpg/fake/22580887345_d86415a8b2_o_25538521990_f3a22bd2b7_o.jpg_concat_full-jpg-ps-full_net.npz', FileNotFoundError(2, 'No such file or directory'))\n",
      "('17082769352_e799eb4af8_o.jpg', '/project/Data/Datasets_output/FaceSwap_jpg/real/17082769352_e799eb4af8_o.jpg_concat_full-jpg-ps-full_net.npz', FileNotFoundError(2, 'No such file or directory'))\n",
      "('10463266145_44f783edcc_o_11575352865_da02705ac9_o.jpg', '/project/Data/Datasets_output/FaceSwap_jpg/fake/10463266145_44f783edcc_o_11575352865_da02705ac9_o.jpg_concat_full-jpg-ps-full_net.npz', FileNotFoundError(2, 'No such file or directory'))\n",
      "('8979397234_3faf509b2a_o.jpg', '/project/Data/Datasets_output/FaceSwap_jpg/real/8979397234_3faf509b2a_o.jpg_concat_full-jpg-ps-full_net.npz', FileNotFoundError(2, 'No such file or directory'))\n",
      "('15812091259_02a372e3e8_o_22692603556_d2dbc5ef91_o.jpg', '/project/Data/Datasets_output/FaceSwap_jpg/fake/15812091259_02a372e3e8_o_22692603556_d2dbc5ef91_o.jpg_concat_full-jpg-ps-full_net.npz', FileNotFoundError(2, 'No such file or directory'))\n",
      "('16432197714_bcf51419e9_o_19328149423_3a05e72a35_o.jpg', '/project/Data/Datasets_output/FaceSwap_jpg/fake/16432197714_bcf51419e9_o_19328149423_3a05e72a35_o.jpg_concat_full-jpg-ps-full_net.npz', FileNotFoundError(2, 'No such file or directory'))\n",
      "('21643678933_a399914b9a_o_24910226459_36c63e9089_o.jpg', '/project/Data/Datasets_output/FaceSwap_jpg/fake/21643678933_a399914b9a_o_24910226459_36c63e9089_o.jpg_concat_full-jpg-ps-full_net.npz', FileNotFoundError(2, 'No such file or directory'))\n",
      "('22165027424_81408d431d_o_21140231884_761d260f7b_o.jpg', '/project/Data/Datasets_output/FaceSwap_jpg/fake/22165027424_81408d431d_o_21140231884_761d260f7b_o.jpg_concat_full-jpg-ps-full_net.npz', FileNotFoundError(2, 'No such file or directory'))\n",
      "('14757056106_fd07752f16_o_24648331949_1fc04314bc_o.jpg', '/project/Data/Datasets_output/FaceSwap_jpg/fake/14757056106_fd07752f16_o_24648331949_1fc04314bc_o.jpg_concat_full-jpg-ps-full_net.npz', FileNotFoundError(2, 'No such file or directory'))\n",
      "('19062970884_65baa76701_o_3447595310_20d2ee3168_o.jpg', '/project/Data/Datasets_output/FaceSwap_jpg/fake/19062970884_65baa76701_o_3447595310_20d2ee3168_o.jpg_concat_full-jpg-ps-full_net.npz', FileNotFoundError(2, 'No such file or directory'))\n",
      "('19158908034_1ecb2910ca_o_8223864278_28b89b5a69_o.jpg', '/project/Data/Datasets_output/FaceSwap_jpg/fake/19158908034_1ecb2910ca_o_8223864278_28b89b5a69_o.jpg_concat_full-jpg-ps-full_net.npz', FileNotFoundError(2, 'No such file or directory'))\n",
      "('21807339793_861dcf60d4_o_15469833875_0e9b319e4b_o.jpg', '/project/Data/Datasets_output/FaceSwap_jpg/fake/21807339793_861dcf60d4_o_15469833875_0e9b319e4b_o.jpg_concat_full-jpg-ps-full_net.npz', FileNotFoundError(2, 'No such file or directory'))\n",
      "('25608115475_4d8e650151_o_8694152936_ea4c03fc1c_o.jpg', '/project/Data/Datasets_output/FaceSwap_jpg/fake/25608115475_4d8e650151_o_8694152936_ea4c03fc1c_o.jpg_concat_full-jpg-ps-full_net.npz', FileNotFoundError(2, 'No such file or directory'))\n",
      "('9248581894_c1a59dcfe0_o_8672187643_71cd01c473_o.jpg', '/project/Data/Datasets_output/FaceSwap_jpg/fake/9248581894_c1a59dcfe0_o_8672187643_71cd01c473_o.jpg_concat_full-jpg-ps-full_net.npz', FileNotFoundError(2, 'No such file or directory'))\n",
      "('8725068285_e242937761_o_24186449263_816ccf5d64_o.jpg', '/project/Data/Datasets_output/FaceSwap_jpg/fake/8725068285_e242937761_o_24186449263_816ccf5d64_o.jpg_concat_full-jpg-ps-full_net.npz', FileNotFoundError(2, 'No such file or directory'))\n",
      "('9260521351_cd64e6e069_o_23884002606_f99f79e3ca_o.jpg', '/project/Data/Datasets_output/FaceSwap_jpg/fake/9260521351_cd64e6e069_o_23884002606_f99f79e3ca_o.jpg_concat_full-jpg-ps-full_net.npz', FileNotFoundError(2, 'No such file or directory'))\n",
      "('18818848938_191cf5e0ce_o_7395646120_f6c82706d0_o.jpg', '/project/Data/Datasets_output/FaceSwap_jpg/fake/18818848938_191cf5e0ce_o_7395646120_f6c82706d0_o.jpg_concat_full-jpg-ps-full_net.npz', FileNotFoundError(2, 'No such file or directory'))\n",
      "('16702717501_470f738e33_o_4377836274_474bae9180_o.jpg', '/project/Data/Datasets_output/FaceSwap_jpg/fake/16702717501_470f738e33_o_4377836274_474bae9180_o.jpg_concat_full-jpg-ps-full_net.npz', FileNotFoundError(2, 'No such file or directory'))\n",
      "('22166594593_7cfb0a76d1_o_23028757171_01d152815d_o.jpg', '/project/Data/Datasets_output/FaceSwap_jpg/fake/22166594593_7cfb0a76d1_o_23028757171_01d152815d_o.jpg_concat_full-jpg-ps-full_net.npz', FileNotFoundError(2, 'No such file or directory'))\n",
      "('20969168404_5f16e69333_o_6453485227_47db95e60c_o.jpg', '/project/Data/Datasets_output/FaceSwap_jpg/fake/20969168404_5f16e69333_o_6453485227_47db95e60c_o.jpg_concat_full-jpg-ps-full_net.npz', FileNotFoundError(2, 'No such file or directory'))\n",
      "('14740510502_eaa0293629_o_23143706453_be21bb10a3_o.jpg', '/project/Data/Datasets_output/FaceSwap_jpg/fake/14740510502_eaa0293629_o_23143706453_be21bb10a3_o.jpg_concat_full-jpg-ps-full_net.npz', FileNotFoundError(2, 'No such file or directory'))\n",
      "('21641954824_ce055eb91d_o_21235028628_1e45512a69_o.jpg', '/project/Data/Datasets_output/FaceSwap_jpg/fake/21641954824_ce055eb91d_o_21235028628_1e45512a69_o.jpg_concat_full-jpg-ps-full_net.npz', FileNotFoundError(2, 'No such file or directory'))\n",
      "('26059049132_85e75ea83f_o_3443897766_fe1a7b3ed5_o.jpg', '/project/Data/Datasets_output/FaceSwap_jpg/fake/26059049132_85e75ea83f_o_3443897766_fe1a7b3ed5_o.jpg_concat_full-jpg-ps-full_net.npz', FileNotFoundError(2, 'No such file or directory'))\n",
      "('24058753584_4cc16efe6e_o_15533055757_75d2261a44_o.jpg', '/project/Data/Datasets_output/FaceSwap_jpg/fake/24058753584_4cc16efe6e_o_15533055757_75d2261a44_o.jpg_concat_full-jpg-ps-full_net.npz', FileNotFoundError(2, 'No such file or directory'))\n",
      "('14593441109_7667540275_o_16381894674_ec01daa1e6_o.jpg', '/project/Data/Datasets_output/FaceSwap_jpg/fake/14593441109_7667540275_o_16381894674_ec01daa1e6_o.jpg_concat_full-jpg-ps-full_net.npz', FileNotFoundError(2, 'No such file or directory'))\n",
      "('20853086240_8777eb36c9_o_25471185432_03d29a616a_o.jpg', '/project/Data/Datasets_output/FaceSwap_jpg/fake/20853086240_8777eb36c9_o_25471185432_03d29a616a_o.jpg_concat_full-jpg-ps-full_net.npz', FileNotFoundError(2, 'No such file or directory'))\n",
      "('17384484691_b4d8feda04_o_3442856440_0875ec99f3_o.jpg', '/project/Data/Datasets_output/FaceSwap_jpg/fake/17384484691_b4d8feda04_o_3442856440_0875ec99f3_o.jpg_concat_full-jpg-ps-full_net.npz', FileNotFoundError(2, 'No such file or directory'))\n",
      "('16741477370_86e079f45c_o_24933437576_83617759a6_o.jpg', '/project/Data/Datasets_output/FaceSwap_jpg/fake/16741477370_86e079f45c_o_24933437576_83617759a6_o.jpg_concat_full-jpg-ps-full_net.npz', FileNotFoundError(2, 'No such file or directory'))\n",
      "('21643788133_f600c411e6_o_4669759119_89fb979f47_o.jpg', '/project/Data/Datasets_output/FaceSwap_jpg/fake/21643788133_f600c411e6_o_4669759119_89fb979f47_o.jpg_concat_full-jpg-ps-full_net.npz', FileNotFoundError(2, 'No such file or directory'))\n",
      "('19142805645_77158a77b7_o_10572248283_a458eca9d9_o.jpg', '/project/Data/Datasets_output/FaceSwap_jpg/fake/19142805645_77158a77b7_o_10572248283_a458eca9d9_o.jpg_concat_full-jpg-ps-full_net.npz', FileNotFoundError(2, 'No such file or directory'))\n",
      "('26402899275_24fbdbf49d_o_10259712983_aea34c5ffa_o.jpg', '/project/Data/Datasets_output/FaceSwap_jpg/fake/26402899275_24fbdbf49d_o_10259712983_aea34c5ffa_o.jpg_concat_full-jpg-ps-full_net.npz', FileNotFoundError(2, 'No such file or directory'))\n",
      "('16958557889_aae9454445_o_17414227026_890a993f83_o.jpg', '/project/Data/Datasets_output/FaceSwap_jpg/fake/16958557889_aae9454445_o_17414227026_890a993f83_o.jpg_concat_full-jpg-ps-full_net.npz', FileNotFoundError(2, 'No such file or directory'))\n",
      "('15829948408_e62476d368_o_14002367513_c75da56b11_o.jpg', '/project/Data/Datasets_output/FaceSwap_jpg/fake/15829948408_e62476d368_o_14002367513_c75da56b11_o.jpg_concat_full-jpg-ps-full_net.npz', FileNotFoundError(2, 'No such file or directory'))\n",
      "('21642079454_8a099d5e56_o_8885201104_7a316e81be_o.jpg', '/project/Data/Datasets_output/FaceSwap_jpg/fake/21642079454_8a099d5e56_o_8885201104_7a316e81be_o.jpg_concat_full-jpg-ps-full_net.npz', FileNotFoundError(2, 'No such file or directory'))\n",
      "('24569643242_403ef331e1_o_7000038187_ccd7fe6ffb_o.jpg', '/project/Data/Datasets_output/FaceSwap_jpg/fake/24569643242_403ef331e1_o_7000038187_ccd7fe6ffb_o.jpg_concat_full-jpg-ps-full_net.npz', FileNotFoundError(2, 'No such file or directory'))\n",
      "('18382717974_6b54c26012_o_15165935637_671f587fbc_o.jpg', '/project/Data/Datasets_output/FaceSwap_jpg/fake/18382717974_6b54c26012_o_15165935637_671f587fbc_o.jpg_concat_full-jpg-ps-full_net.npz', FileNotFoundError(2, 'No such file or directory'))\n",
      "('21223585073_0bee5cee6f_o_2514334919_96a5ab7660_o.jpg', '/project/Data/Datasets_output/FaceSwap_jpg/fake/21223585073_0bee5cee6f_o_2514334919_96a5ab7660_o.jpg_concat_full-jpg-ps-full_net.npz', FileNotFoundError(2, 'No such file or directory'))\n",
      "('14848702261_34f0465251_o_24940021290_27677720f0_o.jpg', '/project/Data/Datasets_output/FaceSwap_jpg/fake/14848702261_34f0465251_o_24940021290_27677720f0_o.jpg_concat_full-jpg-ps-full_net.npz', FileNotFoundError(2, 'No such file or directory'))\n",
      "('8979397234_3faf509b2a_o_23084461324_62c5f6853f_o.jpg', '/project/Data/Datasets_output/FaceSwap_jpg/fake/8979397234_3faf509b2a_o_23084461324_62c5f6853f_o.jpg_concat_full-jpg-ps-full_net.npz', FileNotFoundError(2, 'No such file or directory'))\n",
      "('10003456176_d0a42279b1_o_2962233714_60acd1d7bc_o.jpg', '/project/Data/Datasets_output/FaceSwap_jpg/fake/10003456176_d0a42279b1_o_2962233714_60acd1d7bc_o.jpg_concat_full-jpg-ps-full_net.npz', FileNotFoundError(2, 'No such file or directory'))\n",
      "('15613889731_f4a02a919f_o_14979881264_384cd2c831_o.jpg', '/project/Data/Datasets_output/FaceSwap_jpg/fake/15613889731_f4a02a919f_o_14979881264_384cd2c831_o.jpg_concat_full-jpg-ps-full_net.npz', FileNotFoundError(2, 'No such file or directory'))\n",
      "('14214200074_2680885432_o_175641247_1494ac2184_o.jpg', '/project/Data/Datasets_output/FaceSwap_jpg/fake/14214200074_2680885432_o_175641247_1494ac2184_o.jpg_concat_full-jpg-ps-full_net.npz', FileNotFoundError(2, 'No such file or directory'))\n"
     ]
    },
    {
     "data": {
      "application/vnd.jupyter.widget-view+json": {
       "model_id": "",
       "version_major": 2,
       "version_minor": 0
      },
      "text/plain": [
       "  0%|          | 0/2530 [00:00<?, ?it/s]"
      ]
     },
     "metadata": {},
     "output_type": "display_data"
    }
   ],
   "source": [
    "# Input files (real and fake)\n",
    "input_folder_real_files = os.listdir(input_folder_real)\n",
    "input_folder_fake_files = os.listdir(input_folder)\n",
    "\n",
    "labels_real = [0] * len(input_folder_real_files)\n",
    "labels_fake = [1] * len(input_folder_fake_files)\n",
    "labels = labels_real + labels_fake\n",
    "\n",
    "# Do it all with multithreading pools\n",
    "args_real = [(input_folder_real, input_filename, output_folder_real) for input_filename in input_folder_real_files]\n",
    "args_fake = [(input_folder, input_filename, output_folder) for input_filename in input_folder_fake_files]\n",
    "args = args_real + args_fake\n",
    "\n",
    "# Map images to thread jobs\n",
    "with Pool(num_threads) as p:\n",
    "    res = list(tqdm(p.starmap(extract_global_features, args), total=(len(input_folder_real_files) + len(input_folder_fake_files)), leave=False))\n",
    "    res = np.asarray(res) # rows: images;   columns: operations"
   ]
  },
  {
   "cell_type": "code",
   "execution_count": 50,
   "id": "ddce8d8b-ca11-4959-a25b-1d18030fae87",
   "metadata": {},
   "outputs": [
    {
     "name": "stdout",
     "output_type": "stream",
     "text": [
      "2530\n",
      "[[7.24179582e+02 5.00197230e+01 4.15649194e+03 ... 2.41913628e+04\n",
      "  2.41913628e+04 2.41913628e+04]\n",
      " [9.04316445e+03 4.61375082e+01 3.99890910e+04 ... 2.31333613e+05\n",
      "  2.31333613e+05 2.31333613e+05]\n",
      " [3.50416945e+03 1.77602673e+02 6.71772233e+03 ... 2.32881731e+04\n",
      "  2.36138030e+04 2.40461133e+04]\n",
      " ...\n",
      " [8.86267960e+01 4.39518453e+01 7.23225027e+02 ... 1.90479486e+02\n",
      "  2.17592821e+02 3.82499749e+02]\n",
      " [           nan            nan            nan ...            nan\n",
      "             nan            nan]\n",
      " [3.44453456e+02 3.61426576e+02 2.69183481e+02 ... 1.04582464e+03\n",
      "  1.15503462e+03 1.47829496e+03]]\n"
     ]
    }
   ],
   "source": [
    "print(len(res))\n",
    "print(res)"
   ]
  },
  {
   "cell_type": "code",
   "execution_count": 51,
   "id": "b216e250-917b-4567-9f94-2654b9f0dd06",
   "metadata": {},
   "outputs": [
    {
     "name": "stdout",
     "output_type": "stream",
     "text": [
      "too many nans\n",
      "too many nans\n",
      "too many nans\n",
      "too many nans\n",
      "too many nans\n",
      "too many nans\n",
      "too many nans\n",
      "too many nans\n",
      "too many nans\n",
      "too many nans\n"
     ]
    },
    {
     "name": "stderr",
     "output_type": "stream",
     "text": [
      "/tmp/ipykernel_328/2292990708.py:9: FutureWarning: The frame.append method is deprecated and will be removed from pandas in a future version. Use pandas.concat instead.\n",
      "  df = df.append(pandas.Series(dtype='object'), ignore_index=True)    # new empty row for the algorithm\n"
     ]
    },
    {
     "name": "stdout",
     "output_type": "stream",
     "text": [
      "too many nans\n",
      "too many nans\n",
      "too many nans\n",
      "too many nans\n",
      "best accuracy: 0.5292759794915944 with threshold 6389.059226516624\n"
     ]
    },
    {
     "data": {
      "image/png": "[encoded data removed]",
      "text/plain": [
       "<Figure size 432x288 with 1 Axes>"
      ]
     },
     "metadata": {
      "needs_background": "light"
     },
     "output_type": "display_data"
    },
    {
     "data": {
      "text/html": [
       "<div>\n",
       "<style scoped>\n",
       "    .dataframe tbody tr th:only-of-type {\n",
       "        vertical-align: middle;\n",
       "    }\n",
       "\n",
       "    .dataframe tbody tr th {\n",
       "        vertical-align: top;\n",
       "    }\n",
       "\n",
       "    .dataframe thead th {\n",
       "        text-align: right;\n",
       "    }\n",
       "</style>\n",
       "<table border=\"1\" class=\"dataframe\">\n",
       "  <thead>\n",
       "    <tr style=\"text-align: right;\">\n",
       "      <th></th>\n",
       "      <th>AUC_mean</th>\n",
       "      <th>AUC_median</th>\n",
       "      <th>AUC_max</th>\n",
       "      <th>AUC_perc975</th>\n",
       "      <th>AUC_perc995</th>\n",
       "      <th>best_AUC</th>\n",
       "      <th>pd_best_AUC</th>\n",
       "      <th>skipped</th>\n",
       "    </tr>\n",
       "  </thead>\n",
       "  <tbody>\n",
       "    <tr>\n",
       "      <th>0</th>\n",
       "      <td>0.508</td>\n",
       "      <td>0.426</td>\n",
       "      <td>0.53</td>\n",
       "      <td>0.494</td>\n",
       "      <td>0.532</td>\n",
       "      <td>0.532</td>\n",
       "      <td>0.139</td>\n",
       "      <td>137</td>\n",
       "    </tr>\n",
       "  </tbody>\n",
       "</table>\n",
       "</div>"
      ],
      "text/plain": [
       "  AUC_mean AUC_median AUC_max AUC_perc975 AUC_perc995 best_AUC pd_best_AUC  \\\n",
       "0    0.508      0.426    0.53       0.494       0.532    0.532       0.139   \n",
       "\n",
       "  skipped  \n",
       "0     137  "
      ]
     },
     "metadata": {},
     "output_type": "display_data"
    }
   ],
   "source": [
    "# Calculate ROC from results\n",
    "# CSV Header\n",
    "columns = []\n",
    "for op in ops_to_save:\n",
    "    columns.append('AUC_' + op)  # AUC\n",
    "    columns.append('pd_'  + op)  # pd@10%\n",
    "columns += ['best_AUC', 'pd_best_AUC','skipped']\n",
    "df = pandas.DataFrame(columns=columns)\n",
    "df = df.append(pandas.Series(dtype='object'), ignore_index=True)    # new empty row for the algorithm\n",
    "\n",
    "max_skipped  = 0\n",
    "AUCs, pds, ROCs = [], [], []\n",
    "\n",
    "try:\n",
    "    for op_i, op in enumerate(operations):\n",
    "        scores = np.copy(res[:,op_i])  # column of the operation\n",
    "        scores[scores==np.PINF] = np.nanmax(scores[scores<np.PINF])\n",
    "\n",
    "        skipped = len(scores[~np.isfinite(scores)])  # just to check how many misses\n",
    "\n",
    "        if skipped > max_skipped:\n",
    "            max_skipped = skipped  # we could have a different number of misses for each operation\n",
    "        if skipped < 50:\n",
    "            scores[np.isnan(scores)] = np.nanmin(scores) # we only replace nans if there are few of them\n",
    "        else:\n",
    "            print('too many nans')\n",
    "\n",
    "        lbl = np.array(labels)\n",
    "        lbl = lbl[np.isfinite(scores)]\n",
    "        scores = scores[np.isfinite(scores)]\n",
    "        assert lbl.shape == scores.shape\n",
    "\n",
    "        # METRICS\n",
    "        auc = np.round( roc_auc_score(lbl, scores), 3)\n",
    "        pd  = np.round( pd_at_far(lbl, scores),     3)\n",
    "\n",
    "        if find_best_threshold:\n",
    "            fpr_, tpr_, th_ = roc_curve(lbl, scores)\n",
    "            ROCs.append((fpr_,tpr_,th_))\n",
    "\n",
    "        if op != 'std':\n",
    "            AUCs.append(auc)    # this is for finding the best AUC over the different operations\n",
    "            pds.append(pd)\n",
    "\n",
    "        if op in ops_to_save:\n",
    "            df['AUC_' + op].iloc[-1] = auc\n",
    "            df['pd_'  + op].iloc[-1] = pd\n",
    "\n",
    "    best_AUC = np.max(AUCs)\n",
    "    best_AUC_index = np.argmax(AUCs)\n",
    "    best_pd  = pds[best_AUC_index]\n",
    "\n",
    "    df['best_AUC'   ].iloc[-1] = best_AUC\n",
    "    df['pd_best_AUC'].iloc[-1] = best_pd            \n",
    "    df['skipped'    ].iloc[-1] = max_skipped\n",
    "\n",
    "    if find_best_threshold:\n",
    "        (fpr, tpr, th) = ROCs[best_AUC_index]  # I am only doing it for the best ROC\n",
    "        acc = (tpr-fpr+1)/2\n",
    "        print(f'best accuracy: {np.max(acc)} with threshold {th[np.argmax(acc)]}')\n",
    "        plt.plot(th, acc)\n",
    "        plt.show()\n",
    "\n",
    "    df.to_csv(csv_file, header='true', index=False, sep=';')\n",
    "\n",
    "except:\n",
    "    import traceback\n",
    "    traceback.print_exc()\n",
    "    pass\n",
    "\n",
    "display(df[['AUC_mean','AUC_median','AUC_max','AUC_perc975','AUC_perc995','best_AUC','pd_best_AUC','skipped']])"
   ]
  },
  {
   "cell_type": "code",
   "execution_count": null,
   "id": "e01886be-acf1-47bd-80a6-e635fd3c2f3f",
   "metadata": {},
   "outputs": [],
   "source": []
  },
  {
   "cell_type": "code",
   "execution_count": null,
   "id": "bbdea3d6-a7ef-42f2-8810-b7a8860e6303",
   "metadata": {},
   "outputs": [],
   "source": []
  }
 ],
 "metadata": {
  "kernelspec": {
   "display_name": "Python 3 (ipykernel)",
   "language": "python",
   "name": "python3"
  },
  "language_info": {
   "codemirror_mode": {
    "name": "ipython",
    "version": 3
   },
   "file_extension": ".py",
   "mimetype": "text/x-python",
   "name": "python",
   "nbconvert_exporter": "python",
   "pygments_lexer": "ipython3",
   "version": "3.10.5"
  }
 },
 "nbformat": 4,
 "nbformat_minor": 5
}
